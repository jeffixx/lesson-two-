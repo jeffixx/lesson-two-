{
 "cells": [
  {
   "cell_type": "code",
   "execution_count": 62,
   "metadata": {},
   "outputs": [
    {
     "name": "stdout",
     "output_type": "stream",
     "text": [
      "['C:\\\\Users\\\\HASEE\\\\Anaconda3\\\\lib\\\\site-packages\\\\matplotlib']\n"
     ]
    }
   ],
   "source": [
    "import matplotlib\n",
    "print(matplotlib.__path__)"
   ]
  },
  {
   "cell_type": "code",
   "execution_count": 63,
   "metadata": {},
   "outputs": [],
   "source": [
    "%config IPCompleter.greedy=True"
   ]
  },
  {
   "cell_type": "code",
   "execution_count": 64,
   "metadata": {},
   "outputs": [
    {
     "ename": "SyntaxError",
     "evalue": "unexpected character after line continuation character (<ipython-input-64-b0559fbedb51>, line 1)",
     "output_type": "error",
     "traceback": [
      "\u001b[1;36m  File \u001b[1;32m\"<ipython-input-64-b0559fbedb51>\"\u001b[1;36m, line \u001b[1;32m1\u001b[0m\n\u001b[1;33m    C:\\Users\\HASEE\u001b[0m\n\u001b[1;37m                  ^\u001b[0m\n\u001b[1;31mSyntaxError\u001b[0m\u001b[1;31m:\u001b[0m unexpected character after line continuation character\n"
     ]
    }
   ],
   "source": [
    "C:\\Users\\HASEE"
   ]
  },
  {
   "cell_type": "code",
   "execution_count": 65,
   "metadata": {},
   "outputs": [
    {
     "name": "stdout",
     "output_type": "stream",
     "text": [
      "C:\\Users\\HASEE\n"
     ]
    }
   ],
   "source": [
    "cd"
   ]
  },
  {
   "cell_type": "code",
   "execution_count": 66,
   "metadata": {},
   "outputs": [
    {
     "name": "stdout",
     "output_type": "stream",
     "text": [
      "C:\\Users\\HASEE\\Anaconda3\n"
     ]
    }
   ],
   "source": [
    "cd Anaconda3"
   ]
  },
  {
   "cell_type": "code",
   "execution_count": 67,
   "metadata": {},
   "outputs": [
    {
     "name": "stdout",
     "output_type": "stream",
     "text": [
      "C:\\Users\\HASEE\\Anaconda3\\lib\n"
     ]
    }
   ],
   "source": [
    "cd lib"
   ]
  },
  {
   "cell_type": "code",
   "execution_count": 68,
   "metadata": {},
   "outputs": [
    {
     "name": "stdout",
     "output_type": "stream",
     "text": [
      "C:\\Users\\HASEE\\Anaconda3\\lib\\site-packages\n"
     ]
    }
   ],
   "source": [
    "cd site-packages"
   ]
  },
  {
   "cell_type": "code",
   "execution_count": 69,
   "metadata": {},
   "outputs": [
    {
     "name": "stdout",
     "output_type": "stream",
     "text": [
      "C:\\Users\\HASEE\\Anaconda3\\lib\\site-packages\\matplotlib\n"
     ]
    }
   ],
   "source": [
    "cd matplotlib"
   ]
  },
  {
   "cell_type": "code",
   "execution_count": 70,
   "metadata": {},
   "outputs": [
    {
     "name": "stdout",
     "output_type": "stream",
     "text": [
      "C:\\Users\\HASEE\\Anaconda3\\lib\\site-packages\\matplotlib\\mpl-data\n"
     ]
    }
   ],
   "source": [
    "cd mpl-data"
   ]
  },
  {
   "cell_type": "code",
   "execution_count": 71,
   "metadata": {},
   "outputs": [
    {
     "name": "stdout",
     "output_type": "stream",
     "text": [
      "C:\\Users\\HASEE\\Anaconda3\\lib\\site-packages\\matplotlib\\mpl-data\\fonts\n"
     ]
    }
   ],
   "source": [
    "cd fonts "
   ]
  },
  {
   "cell_type": "code",
   "execution_count": 72,
   "metadata": {},
   "outputs": [
    {
     "name": "stdout",
     "output_type": "stream",
     "text": [
      "C:\\Users\\HASEE\\Anaconda3\\lib\\site-packages\\matplotlib\\mpl-data\\fonts\\ttf\n"
     ]
    }
   ],
   "source": [
    "cd ttf "
   ]
  },
  {
   "cell_type": "code",
   "execution_count": 73,
   "metadata": {},
   "outputs": [],
   "source": [
    "coordination_source = \"\"\"\n",
    "{name:'兰州', geoCoord:[103.73, 36.03]},\n",
    "{name:'嘉峪关', geoCoord:[98.17, 39.47]},\n",
    "{name:'西宁', geoCoord:[101.74, 36.56]},\n",
    "{name:'成都', geoCoord:[104.06, 30.67]},\n",
    "{name:'石家庄', geoCoord:[114.48, 38.03]},\n",
    "{name:'拉萨', geoCoord:[102.73, 25.04]},\n",
    "{name:'贵阳', geoCoord:[106.71, 26.57]},\n",
    "{name:'武汉', geoCoord:[114.31, 30.52]},\n",
    "{name:'郑州', geoCoord:[113.65, 34.76]},\n",
    "{name:'济南', geoCoord:[117, 36.65]},\n",
    "{name:'南京', geoCoord:[118.78, 32.04]},\n",
    "{name:'合肥', geoCoord:[117.27, 31.86]},\n",
    "{name:'杭州', geoCoord:[120.19, 30.26]},\n",
    "{name:'南昌', geoCoord:[115.89, 28.68]},\n",
    "{name:'福州', geoCoord:[119.3, 26.08]},\n",
    "{name:'广州', geoCoord:[113.23, 23.16]},\n",
    "{name:'长沙', geoCoord:[113, 28.21]},\n",
    "//{name:'海口', geoCoord:[110.35, 20.02]},\n",
    "{name:'沈阳', geoCoord:[123.38, 41.8]},\n",
    "{name:'长春', geoCoord:[125.35, 43.88]},\n",
    "{name:'哈尔滨', geoCoord:[126.63, 45.75]},\n",
    "{name:'太原', geoCoord:[112.53, 37.87]},\n",
    "{name:'西安', geoCoord:[108.95, 34.27]},\n",
    "//{name:'台湾', geoCoord:[121.30, 25.03]},\n",
    "{name:'北京', geoCoord:[116.46, 39.92]},\n",
    "{name:'上海', geoCoord:[121.48, 31.22]},\n",
    "{name:'重庆', geoCoord:[106.54, 29.59]},\n",
    "{name:'天津', geoCoord:[117.2, 39.13]},\n",
    "{name:'呼和浩特', geoCoord:[111.65, 40.82]},\n",
    "{name:'南宁', geoCoord:[108.33, 22.84]},\n",
    "//{name:'西藏', geoCoord:[91.11, 29.97]},\n",
    "{name:'银川', geoCoord:[106.27, 38.47]},\n",
    "{name:'乌鲁木齐', geoCoord:[87.68, 43.77]},\n",
    "{name:'香港', geoCoord:[114.17, 22.28]},\n",
    "{name:'澳门', geoCoord:[113.54, 22.19]}\n",
    "\"\"\""
   ]
  },
  {
   "cell_type": "code",
   "execution_count": 74,
   "metadata": {},
   "outputs": [],
   "source": [
    "import networkx as nx "
   ]
  },
  {
   "cell_type": "code",
   "execution_count": 75,
   "metadata": {},
   "outputs": [],
   "source": [
    "import re "
   ]
  },
  {
   "cell_type": "code",
   "execution_count": 76,
   "metadata": {},
   "outputs": [],
   "source": [
    "x=\"name:'澳门', geoCoord:[113.54, 22.19]\""
   ]
  },
  {
   "cell_type": "code",
   "execution_count": 77,
   "metadata": {},
   "outputs": [],
   "source": [
    "y = re.findall(\"name:'(\\w+)'\",x)"
   ]
  },
  {
   "cell_type": "code",
   "execution_count": 78,
   "metadata": {},
   "outputs": [
    {
     "data": {
      "text/plain": [
       "['澳门']"
      ]
     },
     "execution_count": 78,
     "metadata": {},
     "output_type": "execute_result"
    }
   ],
   "source": [
    "y"
   ]
  },
  {
   "cell_type": "code",
   "execution_count": 79,
   "metadata": {},
   "outputs": [],
   "source": [
    "city_location = {}"
   ]
  },
  {
   "cell_type": "code",
   "execution_count": 80,
   "metadata": {},
   "outputs": [],
   "source": [
    "for line in coordination_source.split('\\n'):\n",
    "    \n",
    "    if line.startswith('//'): continue\n",
    "    if line.strip() == '':continue\n",
    "    city = re.findall(\"name:'(\\w+)'\",line)[0]\n",
    "    x_y = re.findall(\"Coord:\\[(\\d+.\\d+),\\s(\\d+.\\d+)\\]\",line)[0]\n",
    "    \n",
    "    x_y = tuple(map(float,x_y))\n",
    "    city_location[city] = x_y\n",
    "\n",
    "\n",
    "    \n",
    "                      "
   ]
  },
  {
   "cell_type": "code",
   "execution_count": 81,
   "metadata": {},
   "outputs": [
    {
     "data": {
      "text/plain": [
       "{'兰州': (103.73, 36.03),\n",
       " '嘉峪关': (98.17, 39.47),\n",
       " '西宁': (101.74, 36.56),\n",
       " '成都': (104.06, 30.67),\n",
       " '石家庄': (114.48, 38.03),\n",
       " '拉萨': (102.73, 25.04),\n",
       " '贵阳': (106.71, 26.57),\n",
       " '武汉': (114.31, 30.52),\n",
       " '郑州': (113.65, 34.76),\n",
       " '济南': (117.0, 36.65),\n",
       " '南京': (118.78, 32.04),\n",
       " '合肥': (117.27, 31.86),\n",
       " '杭州': (120.19, 30.26),\n",
       " '南昌': (115.89, 28.68),\n",
       " '福州': (119.3, 26.08),\n",
       " '广州': (113.23, 23.16),\n",
       " '长沙': (113.0, 28.21),\n",
       " '沈阳': (123.38, 41.8),\n",
       " '长春': (125.35, 43.88),\n",
       " '哈尔滨': (126.63, 45.75),\n",
       " '太原': (112.53, 37.87),\n",
       " '西安': (108.95, 34.27),\n",
       " '北京': (116.46, 39.92),\n",
       " '上海': (121.48, 31.22),\n",
       " '重庆': (106.54, 29.59),\n",
       " '天津': (117.2, 39.13),\n",
       " '呼和浩特': (111.65, 40.82),\n",
       " '南宁': (108.33, 22.84),\n",
       " '银川': (106.27, 38.47),\n",
       " '乌鲁木齐': (87.68, 43.77),\n",
       " '香港': (114.17, 22.28),\n",
       " '澳门': (113.54, 22.19)}"
      ]
     },
     "execution_count": 81,
     "metadata": {},
     "output_type": "execute_result"
    }
   ],
   "source": [
    "city_location"
   ]
  },
  {
   "cell_type": "code",
   "execution_count": 82,
   "metadata": {},
   "outputs": [],
   "source": [
    "import math "
   ]
  },
  {
   "cell_type": "code",
   "execution_count": 83,
   "metadata": {},
   "outputs": [],
   "source": [
    "def geo_distance(origin, destination):\n",
    "    \"\"\"\n",
    "    Calculate the Haversine distance.\n",
    "\n",
    "    Parameters\n",
    "    ----------\n",
    "    origin : tuple of float\n",
    "        (lat, long)\n",
    "    destination : tuple of float\n",
    "        (lat, long)\n",
    "\n",
    "    Returns\n",
    "    -------\n",
    "    distance_in_km : float\n",
    "\n",
    "    Examples\n",
    "    --------\n",
    "    >>> origin = (48.1372, 11.5756)  # Munich\n",
    "    >>> destination = (52.5186, 13.4083)  # Berlin\n",
    "    >>> round(distance(origin, destination), 1)\n",
    "    504.2\n",
    "    \"\"\"\n",
    "    lat1, lon1 = origin\n",
    "    lat2, lon2 = destination\n",
    "    radius = 6371  # km\n",
    "\n",
    "    dlat = math.radians(lat2 - lat1)\n",
    "    dlon = math.radians(lon2 - lon1)\n",
    "    a = (math.sin(dlat / 2) * math.sin(dlat / 2) +\n",
    "         math.cos(math.radians(lat1)) * math.cos(math.radians(lat2)) *\n",
    "         math.sin(dlon / 2) * math.sin(dlon / 2))\n",
    "    c = 2 * math.atan2(math.sqrt(a), math.sqrt(1 - a))\n",
    "    d = radius * c\n",
    "\n",
    "    return d"
   ]
  },
  {
   "cell_type": "code",
   "execution_count": 84,
   "metadata": {},
   "outputs": [],
   "source": [
    "def get_city_distance(city1,city2):\n",
    "    \n",
    "    return geo_distance(city_location[city1],city_location[city2])\n"
   ]
  },
  {
   "cell_type": "code",
   "execution_count": 85,
   "metadata": {},
   "outputs": [
    {
     "data": {
      "text/plain": [
       "649.323656161869"
      ]
     },
     "execution_count": 85,
     "metadata": {},
     "output_type": "execute_result"
    }
   ],
   "source": [
    "get_city_distance('西安','广州')\n"
   ]
  },
  {
   "cell_type": "code",
   "execution_count": 86,
   "metadata": {},
   "outputs": [],
   "source": [
    "import networkx as nx"
   ]
  },
  {
   "cell_type": "code",
   "execution_count": 87,
   "metadata": {},
   "outputs": [],
   "source": [
    "cities = list(city_location.keys())"
   ]
  },
  {
   "cell_type": "code",
   "execution_count": 88,
   "metadata": {},
   "outputs": [],
   "source": [
    "city_graph = nx.Graph()"
   ]
  },
  {
   "cell_type": "code",
   "execution_count": 89,
   "metadata": {},
   "outputs": [],
   "source": [
    "city_graph.add_nodes_from(cities)"
   ]
  },
  {
   "cell_type": "code",
   "execution_count": 90,
   "metadata": {},
   "outputs": [],
   "source": [
    "%matplotlib inline"
   ]
  },
  {
   "cell_type": "code",
   "execution_count": 91,
   "metadata": {},
   "outputs": [],
   "source": [
    "import matplotlib as plt"
   ]
  },
  {
   "cell_type": "code",
   "execution_count": 92,
   "metadata": {},
   "outputs": [],
   "source": [
    "plt.rcParams['font.sans-serif'] = ['SimHei']\n",
    "plt.rcParams['axes.unicode_minus'] = False"
   ]
  },
  {
   "cell_type": "code",
   "execution_count": 93,
   "metadata": {},
   "outputs": [
    {
     "data": {
      "image/png": "[encoded data removed]",
      "text/plain": [
       "<Figure size 432x288 with 1 Axes>"
      ]
     },
     "metadata": {},
     "output_type": "display_data"
    }
   ],
   "source": [
    "nx.draw(city_graph, city_location, with_labels=True, node_size=10)"
   ]
  },
  {
   "cell_type": "code",
   "execution_count": 94,
   "metadata": {},
   "outputs": [],
   "source": [
    "from collections import defaultdict  \n"
   ]
  },
  {
   "cell_type": "code",
   "execution_count": 95,
   "metadata": {},
   "outputs": [],
   "source": [
    "cities_connection  = defaultdict(list)"
   ]
  },
  {
   "cell_type": "code",
   "execution_count": 96,
   "metadata": {},
   "outputs": [],
   "source": [
    "for c1 in cities:\n",
    "    for c2 in cities:\n",
    "        if c1== c2: continue\n",
    "        \n",
    "    \n",
    "        if get_city_distance(c1,c2) < 700:\n",
    "            cities_connection[c1].append(c2)\n",
    "    "
   ]
  },
  {
   "cell_type": "code",
   "execution_count": 97,
   "metadata": {},
   "outputs": [
    {
     "data": {
      "text/plain": [
       "defaultdict(list,\n",
       "            {'兰州': ['嘉峪关', '西宁', '成都', '拉萨', '贵阳', '西安', '重庆', '南宁', '银川'],\n",
       "             '嘉峪关': ['兰州', '西宁', '成都', '拉萨'],\n",
       "             '西宁': ['兰州', '嘉峪关', '成都', '拉萨', '贵阳', '重庆', '银川'],\n",
       "             '成都': ['兰州', '嘉峪关', '西宁', '拉萨', '贵阳', '西安', '重庆', '南宁', '银川'],\n",
       "             '石家庄': ['武汉',\n",
       "              '郑州',\n",
       "              '济南',\n",
       "              '南京',\n",
       "              '合肥',\n",
       "              '南昌',\n",
       "              '广州',\n",
       "              '长沙',\n",
       "              '太原',\n",
       "              '西安',\n",
       "              '北京',\n",
       "              '天津',\n",
       "              '呼和浩特'],\n",
       "             '拉萨': ['兰州', '嘉峪关', '西宁', '成都', '贵阳', '重庆', '南宁', '银川'],\n",
       "             '贵阳': ['兰州', '西宁', '成都', '拉萨', '西安', '重庆', '南宁', '银川'],\n",
       "             '武汉': ['石家庄',\n",
       "              '郑州',\n",
       "              '济南',\n",
       "              '南京',\n",
       "              '合肥',\n",
       "              '杭州',\n",
       "              '南昌',\n",
       "              '福州',\n",
       "              '广州',\n",
       "              '长沙',\n",
       "              '太原',\n",
       "              '西安',\n",
       "              '北京',\n",
       "              '天津',\n",
       "              '呼和浩特',\n",
       "              '香港',\n",
       "              '澳门'],\n",
       "             '郑州': ['石家庄',\n",
       "              '武汉',\n",
       "              '济南',\n",
       "              '南京',\n",
       "              '合肥',\n",
       "              '南昌',\n",
       "              '广州',\n",
       "              '长沙',\n",
       "              '太原',\n",
       "              '西安',\n",
       "              '北京',\n",
       "              '天津',\n",
       "              '呼和浩特',\n",
       "              '香港',\n",
       "              '澳门'],\n",
       "             '济南': ['石家庄',\n",
       "              '武汉',\n",
       "              '郑州',\n",
       "              '南京',\n",
       "              '合肥',\n",
       "              '杭州',\n",
       "              '南昌',\n",
       "              '福州',\n",
       "              '长沙',\n",
       "              '太原',\n",
       "              '北京',\n",
       "              '上海',\n",
       "              '天津',\n",
       "              '呼和浩特'],\n",
       "             '南京': ['石家庄',\n",
       "              '武汉',\n",
       "              '郑州',\n",
       "              '济南',\n",
       "              '合肥',\n",
       "              '杭州',\n",
       "              '南昌',\n",
       "              '福州',\n",
       "              '长沙',\n",
       "              '北京',\n",
       "              '上海',\n",
       "              '天津'],\n",
       "             '合肥': ['石家庄',\n",
       "              '武汉',\n",
       "              '郑州',\n",
       "              '济南',\n",
       "              '南京',\n",
       "              '杭州',\n",
       "              '南昌',\n",
       "              '福州',\n",
       "              '广州',\n",
       "              '长沙',\n",
       "              '太原',\n",
       "              '北京',\n",
       "              '上海',\n",
       "              '天津',\n",
       "              '香港',\n",
       "              '澳门'],\n",
       "             '杭州': ['武汉', '济南', '南京', '合肥', '南昌', '福州', '北京', '上海', '天津'],\n",
       "             '南昌': ['石家庄',\n",
       "              '武汉',\n",
       "              '郑州',\n",
       "              '济南',\n",
       "              '南京',\n",
       "              '合肥',\n",
       "              '杭州',\n",
       "              '福州',\n",
       "              '广州',\n",
       "              '长沙',\n",
       "              '太原',\n",
       "              '北京',\n",
       "              '上海',\n",
       "              '天津',\n",
       "              '香港',\n",
       "              '澳门'],\n",
       "             '福州': ['武汉',\n",
       "              '济南',\n",
       "              '南京',\n",
       "              '合肥',\n",
       "              '杭州',\n",
       "              '南昌',\n",
       "              '广州',\n",
       "              '上海',\n",
       "              '香港',\n",
       "              '澳门'],\n",
       "             '广州': ['石家庄',\n",
       "              '武汉',\n",
       "              '郑州',\n",
       "              '合肥',\n",
       "              '南昌',\n",
       "              '福州',\n",
       "              '长沙',\n",
       "              '太原',\n",
       "              '西安',\n",
       "              '南宁',\n",
       "              '香港',\n",
       "              '澳门'],\n",
       "             '长沙': ['石家庄',\n",
       "              '武汉',\n",
       "              '郑州',\n",
       "              '济南',\n",
       "              '南京',\n",
       "              '合肥',\n",
       "              '南昌',\n",
       "              '广州',\n",
       "              '太原',\n",
       "              '西安',\n",
       "              '北京',\n",
       "              '天津',\n",
       "              '呼和浩特',\n",
       "              '南宁',\n",
       "              '香港',\n",
       "              '澳门'],\n",
       "             '沈阳': ['长春', '哈尔滨', '上海'],\n",
       "             '长春': ['沈阳', '哈尔滨'],\n",
       "             '哈尔滨': ['沈阳', '长春'],\n",
       "             '太原': ['石家庄',\n",
       "              '武汉',\n",
       "              '郑州',\n",
       "              '济南',\n",
       "              '合肥',\n",
       "              '南昌',\n",
       "              '广州',\n",
       "              '长沙',\n",
       "              '西安',\n",
       "              '北京',\n",
       "              '天津',\n",
       "              '呼和浩特',\n",
       "              '银川',\n",
       "              '澳门'],\n",
       "             '西安': ['兰州',\n",
       "              '成都',\n",
       "              '石家庄',\n",
       "              '贵阳',\n",
       "              '武汉',\n",
       "              '郑州',\n",
       "              '广州',\n",
       "              '长沙',\n",
       "              '太原',\n",
       "              '重庆',\n",
       "              '呼和浩特',\n",
       "              '南宁',\n",
       "              '银川'],\n",
       "             '北京': ['石家庄',\n",
       "              '武汉',\n",
       "              '郑州',\n",
       "              '济南',\n",
       "              '南京',\n",
       "              '合肥',\n",
       "              '杭州',\n",
       "              '南昌',\n",
       "              '长沙',\n",
       "              '太原',\n",
       "              '天津',\n",
       "              '呼和浩特'],\n",
       "             '上海': ['济南', '南京', '合肥', '杭州', '南昌', '福州', '沈阳', '天津'],\n",
       "             '重庆': ['兰州', '西宁', '成都', '拉萨', '贵阳', '西安', '呼和浩特', '南宁', '银川'],\n",
       "             '天津': ['石家庄',\n",
       "              '武汉',\n",
       "              '郑州',\n",
       "              '济南',\n",
       "              '南京',\n",
       "              '合肥',\n",
       "              '杭州',\n",
       "              '南昌',\n",
       "              '长沙',\n",
       "              '太原',\n",
       "              '北京',\n",
       "              '上海',\n",
       "              '呼和浩特'],\n",
       "             '呼和浩特': ['石家庄',\n",
       "              '武汉',\n",
       "              '郑州',\n",
       "              '济南',\n",
       "              '长沙',\n",
       "              '太原',\n",
       "              '西安',\n",
       "              '北京',\n",
       "              '重庆',\n",
       "              '天津',\n",
       "              '银川'],\n",
       "             '南宁': ['兰州',\n",
       "              '成都',\n",
       "              '拉萨',\n",
       "              '贵阳',\n",
       "              '广州',\n",
       "              '长沙',\n",
       "              '西安',\n",
       "              '重庆',\n",
       "              '银川',\n",
       "              '香港',\n",
       "              '澳门'],\n",
       "             '银川': ['兰州',\n",
       "              '西宁',\n",
       "              '成都',\n",
       "              '拉萨',\n",
       "              '贵阳',\n",
       "              '太原',\n",
       "              '西安',\n",
       "              '重庆',\n",
       "              '呼和浩特',\n",
       "              '南宁'],\n",
       "             '香港': ['武汉', '郑州', '合肥', '南昌', '福州', '广州', '长沙', '南宁', '澳门'],\n",
       "             '澳门': ['武汉',\n",
       "              '郑州',\n",
       "              '合肥',\n",
       "              '南昌',\n",
       "              '福州',\n",
       "              '广州',\n",
       "              '长沙',\n",
       "              '太原',\n",
       "              '南宁',\n",
       "              '香港']})"
      ]
     },
     "execution_count": 97,
     "metadata": {},
     "output_type": "execute_result"
    }
   ],
   "source": [
    "cities_connection"
   ]
  },
  {
   "cell_type": "code",
   "execution_count": 98,
   "metadata": {},
   "outputs": [],
   "source": [
    "\n",
    "cities_connection_graph = nx.Graph(cities_connection)"
   ]
  },
  {
   "cell_type": "code",
   "execution_count": 99,
   "metadata": {},
   "outputs": [
    {
     "data": {
      "image/png": "[encoded data removed]",
      "text/plain": [
       "<Figure size 432x288 with 1 Axes>"
      ]
     },
     "metadata": {},
     "output_type": "display_data"
    }
   ],
   "source": [
    "nx.draw(cities_connection_graph,city_location,with_labels = True,node_size = 10)"
   ]
  },
  {
   "cell_type": "code",
   "execution_count": null,
   "metadata": {},
   "outputs": [],
   "source": [
    "from collections import defaultdict"
   ]
  },
  {
   "cell_type": "code",
   "execution_count": 100,
   "metadata": {},
   "outputs": [],
   "source": [
    "simple_connection_info_src = {\n",
    "    '北京': ['太原', '沈阳'],\n",
    "    '太原': ['北京', '西安', '郑州'],\n",
    "    '兰州': ['西安'],\n",
    "    '郑州': ['太原'],\n",
    "    '西安': ['兰州', '长沙'],\n",
    "    '长沙': ['福州', '南宁'],\n",
    "    '沈阳': ['北京']\n",
    "}"
   ]
  },
  {
   "cell_type": "code",
   "execution_count": 101,
   "metadata": {},
   "outputs": [],
   "source": [
    "simple_connection_info = defaultdict(list)"
   ]
  },
  {
   "cell_type": "code",
   "execution_count": 103,
   "metadata": {},
   "outputs": [],
   "source": [
    "simple_connection_info.update(simple_connection_info_src)"
   ]
  },
  {
   "cell_type": "code",
   "execution_count": 116,
   "metadata": {},
   "outputs": [],
   "source": [
    "def bsf (graph , start):\n",
    "    \n",
    "    visited = [start]\n",
    "    seen =set()\n",
    "    \n",
    "    while visited :\n",
    "        froninter = visited.pop()\n",
    "        \n",
    "        if  froninter in seen : continue\n",
    "            \n",
    "        for successor in graph[froninter]:\n",
    "            if successor in seen : continue\n",
    "            \n",
    "            print (successor)\n",
    "                \n",
    "                \n",
    "            visited = visited + [successor]  # 每次扩展最先看到的是深度优先  depth first search\n",
    "                \n",
    "          #  visited = [successor] +visited  # 每次先探索已发现的点是广度优先  breath first search \n",
    "        seen.add(froninter)\n",
    "                \n",
    "    return seen\n",
    "                "
   ]
  },
  {
   "cell_type": "code",
   "execution_count": 117,
   "metadata": {},
   "outputs": [],
   "source": [
    "number_grpah = defaultdict(list)\n",
    "\n",
    "number_grpah.update({\n",
    "    1: [2, 3],\n",
    "    2: [1, 4], \n",
    "    3: [1, 5],\n",
    "    4: [2, 6], \n",
    "    5: [3, 7],\n",
    "    7: [5, 8]\n",
    "})"
   ]
  },
  {
   "cell_type": "code",
   "execution_count": 118,
   "metadata": {},
   "outputs": [
    {
     "name": "stdout",
     "output_type": "stream",
     "text": [
      "2\n",
      "3\n",
      "5\n",
      "7\n",
      "8\n",
      "4\n",
      "6\n"
     ]
    },
    {
     "data": {
      "text/plain": [
       "{1, 2, 3, 4, 5, 6, 7, 8}"
      ]
     },
     "execution_count": 118,
     "metadata": {},
     "output_type": "execute_result"
    }
   ],
   "source": [
    "bsf(number_grpah, 1)          "
   ]
  },
  {
   "cell_type": "code",
   "execution_count": 119,
   "metadata": {},
   "outputs": [
    {
     "name": "stderr",
     "output_type": "stream",
     "text": [
      "C:\\Users\\HASEE\\Anaconda3\\lib\\site-packages\\networkx\\drawing\\nx_pylab.py:611: MatplotlibDeprecationWarning: isinstance(..., numbers.Number)\n",
      "  if cb.is_numlike(alpha):\n"
     ]
    },
    {
     "data": {
      "image/png": "[encoded data removed]",
      "text/plain": [
       "<Figure size 432x288 with 1 Axes>"
      ]
     },
     "metadata": {},
     "output_type": "display_data"
    }
   ],
   "source": [
    "nx.draw(nx.Graph(simple_connection_info), city_location, with_labels=True, node_size=10)"
   ]
  },
  {
   "cell_type": "code",
   "execution_count": 140,
   "metadata": {},
   "outputs": [],
   "source": [
    "def search (start ,distination, connect_graph ,sort_candidate):\n",
    "        paths = [[start]]\n",
    "        visitied =set()\n",
    "        \n",
    "        while paths :\n",
    "            path = paths.pop()\n",
    "            froninter = path[-1] \n",
    "            if froninter in visitied:continue \n",
    "            for city in connect_graph[froninter]:\n",
    "                if city in path : continue\n",
    "                \n",
    "                new_path = path + [city]\n",
    "                \n",
    "                paths.append(new_path)\n",
    "                \n",
    "                if city == distination :return new_path\n",
    "            \n",
    "            visitied.add(froninter)\n",
    "            paths = sort_candidate(paths)\n",
    "    \n",
    "   \n",
    "    \n",
    "                \n",
    "                    "
   ]
  },
  {
   "cell_type": "code",
   "execution_count": 141,
   "metadata": {},
   "outputs": [],
   "source": [
    "def shortest_path_first(pathes):\n",
    "    \n",
    "    if len(pathes) <= 1: return pathes\n",
    "    \n",
    "    def get_path_distnace(path):\n",
    "        distance = 0\n",
    "        for station in path[:-1]:\n",
    "            distance += get_geo_distance(station, path[-1])\n",
    "            \n",
    "        return distance\n",
    "\n",
    "    return sorted(pathes, key=get_path_distnace)"
   ]
  },
  {
   "cell_type": "code",
   "execution_count": 142,
   "metadata": {},
   "outputs": [
    {
     "data": {
      "text/plain": [
       "['兰州', '西安', '长沙', '福州']"
      ]
     },
     "execution_count": 142,
     "metadata": {},
     "output_type": "execute_result"
    }
   ],
   "source": [
    "search('兰州', '福州', simple_connection_info, sort_candidate=shortest_path_first)\n"
   ]
  },
  {
   "cell_type": "code",
   "execution_count": 143,
   "metadata": {},
   "outputs": [],
   "source": [
    "\n",
    "from sklearn.datasets import load_boston"
   ]
  },
  {
   "cell_type": "code",
   "execution_count": 146,
   "metadata": {},
   "outputs": [],
   "source": [
    "data = load_boston()"
   ]
  },
  {
   "cell_type": "code",
   "execution_count": 147,
   "metadata": {},
   "outputs": [],
   "source": [
    "X,y = data['data'],data['target']"
   ]
  },
  {
   "cell_type": "code",
   "execution_count": 148,
   "metadata": {},
   "outputs": [
    {
     "data": {
      "text/plain": [
       "array([2.7310e-02, 0.0000e+00, 7.0700e+00, 0.0000e+00, 4.6900e-01,\n",
       "       6.4210e+00, 7.8900e+01, 4.9671e+00, 2.0000e+00, 2.4200e+02,\n",
       "       1.7800e+01, 3.9690e+02, 9.1400e+00])"
      ]
     },
     "execution_count": 148,
     "metadata": {},
     "output_type": "execute_result"
    }
   ],
   "source": [
    "X[1]"
   ]
  },
  {
   "cell_type": "code",
   "execution_count": 150,
   "metadata": {},
   "outputs": [
    {
     "data": {
      "text/plain": [
       "21.6"
      ]
     },
     "execution_count": 150,
     "metadata": {},
     "output_type": "execute_result"
    }
   ],
   "source": [
    "y[1]"
   ]
  },
  {
   "cell_type": "code",
   "execution_count": 151,
   "metadata": {},
   "outputs": [
    {
     "data": {
      "text/plain": [
       "506"
      ]
     },
     "execution_count": 151,
     "metadata": {},
     "output_type": "execute_result"
    }
   ],
   "source": [
    "len(X[:,1])"
   ]
  },
  {
   "cell_type": "code",
   "execution_count": 153,
   "metadata": {},
   "outputs": [
    {
     "data": {
      "text/plain": [
       "506"
      ]
     },
     "execution_count": 153,
     "metadata": {},
     "output_type": "execute_result"
    }
   ],
   "source": [
    "len(y)"
   ]
  },
  {
   "cell_type": "code",
   "execution_count": 154,
   "metadata": {},
   "outputs": [],
   "source": [
    "%matplotlib inline"
   ]
  },
  {
   "cell_type": "code",
   "execution_count": 157,
   "metadata": {},
   "outputs": [],
   "source": [
    "import matplotlib.pyplot as plt"
   ]
  },
  {
   "cell_type": "code",
   "execution_count": 168,
   "metadata": {},
   "outputs": [],
   "source": [
    "def draw_rm_and_price():\n",
    "    plt.scatter(X[:,5],y)"
   ]
  },
  {
   "cell_type": "code",
   "execution_count": 170,
   "metadata": {},
   "outputs": [
    {
     "data": {
      "image/png": "[encoded data removed]",
      "text/plain": [
       "<Figure size 432x288 with 1 Axes>"
      ]
     },
     "metadata": {
      "needs_background": "light"
     },
     "output_type": "display_data"
    }
   ],
   "source": [
    "draw_rm_and_price()"
   ]
  },
  {
   "cell_type": "raw",
   "metadata": {},
   "source": []
  },
  {
   "cell_type": "code",
   "execution_count": 171,
   "metadata": {},
   "outputs": [],
   "source": [
    "import random "
   ]
  },
  {
   "cell_type": "code",
   "execution_count": 172,
   "metadata": {},
   "outputs": [],
   "source": [
    "def price(rm,k,b):\n",
    "    return k*rm +b "
   ]
  },
  {
   "cell_type": "code",
   "execution_count": 173,
   "metadata": {},
   "outputs": [
    {
     "data": {
      "text/plain": [
       "<matplotlib.collections.PathCollection at 0x1c7c89d0da0>"
      ]
     },
     "execution_count": 173,
     "metadata": {},
     "output_type": "execute_result"
    },
    {
     "data": {
      "image/png": "[encoded data removed]",
      "text/plain": [
       "<Figure size 432x288 with 1 Axes>"
      ]
     },
     "metadata": {
      "needs_background": "light"
     },
     "output_type": "display_data"
    }
   ],
   "source": [
    "X_rm = X[:, 5]\n",
    "k = random.randint(-100, 100)\n",
    "b = random.randint(-100, 100)\n",
    "price_by_random_k_and_b = [price(r, k, b) for r in X_rm]\n",
    "\n",
    "draw_rm_and_price()\n",
    "plt.scatter(X_rm, price_by_random_k_and_b)"
   ]
  },
  {
   "cell_type": "code",
   "execution_count": 174,
   "metadata": {},
   "outputs": [],
   "source": [
    "def loss(y, y_hat): # to evaluate the performance \n",
    "    return sum((y_i - y_hat_i)**2 for y_i, y_hat_i in zip(list(y), list(y_hat))) / len(list(y))"
   ]
  },
  {
   "cell_type": "code",
   "execution_count": 178,
   "metadata": {},
   "outputs": [
    {
     "name": "stdout",
     "output_type": "stream",
     "text": [
      "When time is : 0, get best_k: 83 best_b: -70, and the loss is: 186853.9728892944\n",
      "When time is : 1, get best_k: 53 best_b: 100, and the loss is: 169546.65136407682\n",
      "When time is : 2, get best_k: 12 best_b: -26, and the loss is: 770.4233698972326\n",
      "When time is : 27, get best_k: 12 best_b: -33, and the loss is: 443.0640813596839\n",
      "When time is : 97, get best_k: 12 best_b: -42, and the loss is: 166.17356752569165\n",
      "When time is : 103, get best_k: 20 best_b: -97, and the loss is: 140.05915968379452\n",
      "When time is : 114, get best_k: 19 best_b: -100, and the loss is: 101.63311930237155\n",
      "When time is : 141, get best_k: 11 best_b: -48, and the loss is: 47.34035708893284\n",
      "When time is : 1199, get best_k: 8 best_b: -29, and the loss is: 45.77586207114628\n"
     ]
    }
   ],
   "source": [
    "X_rm = X[:, 5]\n",
    "trytime = 2000\n",
    "min_loss = float('inf')\n",
    "for i in range (trytime):\n",
    "    k = random.randint(-100, 100)\n",
    "    b = random.randint(-100, 100)\n",
    "    price_by_random_k_and_b = [price(r, k, b) for r in X_rm]\n",
    "    \n",
    "    current_loss = loss(y,price_by_random_k_and_b)\n",
    "    \n",
    "    if current_loss < min_loss:\n",
    "        best_b ,best_k = b ,k\n",
    "        min_loss = current_loss\n",
    "        print('When time is : {}, get best_k: {} best_b: {}, and the loss is: {}'.format(i, best_k, best_b, min_loss))\n",
    "    \n",
    "        \n",
    "    "
   ]
  },
  {
   "cell_type": "code",
   "execution_count": 181,
   "metadata": {},
   "outputs": [
    {
     "name": "stdout",
     "output_type": "stream",
     "text": [
      "When time is : 0, get best_k: 38.1 best_b: 69.1, and the loss is: 82260.62601523258\n",
      "When time is : 2, get best_k: 38.0 best_b: 69.0, and the loss is: 81841.60595072723\n",
      "When time is : 3, get best_k: 37.9 best_b: 68.9, and the loss is: 81423.65705808942\n",
      "When time is : 4, get best_k: 37.8 best_b: 68.80000000000001, and the loss is: 81006.77933731902\n",
      "When time is : 5, get best_k: 37.699999999999996 best_b: 68.70000000000002, and the loss is: 80590.97278841618\n",
      "When time is : 6, get best_k: 37.599999999999994 best_b: 68.60000000000002, and the loss is: 80176.23741138101\n",
      "When time is : 7, get best_k: 37.49999999999999 best_b: 68.50000000000003, and the loss is: 79762.57320621288\n",
      "When time is : 8, get best_k: 37.39999999999999 best_b: 68.40000000000003, and the loss is: 79349.98017291247\n",
      "When time is : 9, get best_k: 37.29999999999999 best_b: 68.30000000000004, and the loss is: 78938.45831147944\n",
      "When time is : 10, get best_k: 37.19999999999999 best_b: 68.20000000000005, and the loss is: 78528.00762191393\n",
      "When time is : 11, get best_k: 37.09999999999999 best_b: 68.10000000000005, and the loss is: 78118.62810421598\n",
      "When time is : 12, get best_k: 36.999999999999986 best_b: 68.00000000000006, and the loss is: 77710.31975838545\n",
      "When time is : 13, get best_k: 36.899999999999984 best_b: 67.90000000000006, and the loss is: 77303.08258442223\n",
      "When time is : 14, get best_k: 36.79999999999998 best_b: 67.80000000000007, and the loss is: 76896.91658232664\n",
      "When time is : 15, get best_k: 36.69999999999998 best_b: 67.70000000000007, and the loss is: 76491.82175209845\n",
      "When time is : 16, get best_k: 36.59999999999998 best_b: 67.60000000000008, and the loss is: 76087.79809373776\n",
      "When time is : 17, get best_k: 36.49999999999998 best_b: 67.50000000000009, and the loss is: 75684.84560724458\n",
      "When time is : 18, get best_k: 36.39999999999998 best_b: 67.40000000000009, and the loss is: 75282.96429261885\n",
      "When time is : 19, get best_k: 36.299999999999976 best_b: 67.3000000000001, and the loss is: 74882.15414986052\n",
      "When time is : 20, get best_k: 36.199999999999974 best_b: 67.2000000000001, and the loss is: 74482.4151789697\n",
      "When time is : 21, get best_k: 36.09999999999997 best_b: 67.10000000000011, and the loss is: 74083.74737994633\n",
      "When time is : 22, get best_k: 35.99999999999997 best_b: 67.00000000000011, and the loss is: 73686.15075279049\n",
      "When time is : 23, get best_k: 35.89999999999997 best_b: 66.90000000000012, and the loss is: 73289.62529750209\n",
      "When time is : 24, get best_k: 35.79999999999997 best_b: 66.80000000000013, and the loss is: 72894.17101408115\n",
      "When time is : 25, get best_k: 35.69999999999997 best_b: 66.70000000000013, and the loss is: 72499.78790252763\n",
      "When time is : 26, get best_k: 35.599999999999966 best_b: 66.60000000000014, and the loss is: 72106.4759628417\n",
      "When time is : 27, get best_k: 35.499999999999964 best_b: 66.50000000000014, and the loss is: 71714.23519502317\n",
      "When time is : 28, get best_k: 35.39999999999996 best_b: 66.40000000000015, and the loss is: 71323.06559907208\n",
      "When time is : 29, get best_k: 35.29999999999996 best_b: 66.30000000000015, and the loss is: 70932.96717498856\n",
      "When time is : 30, get best_k: 35.19999999999996 best_b: 66.20000000000016, and the loss is: 70543.93992277254\n",
      "When time is : 31, get best_k: 35.09999999999996 best_b: 66.10000000000016, and the loss is: 70155.98384242377\n",
      "When time is : 32, get best_k: 34.99999999999996 best_b: 66.00000000000017, and the loss is: 69769.09893394259\n",
      "When time is : 33, get best_k: 34.899999999999956 best_b: 65.90000000000018, and the loss is: 69383.28519732897\n",
      "When time is : 34, get best_k: 34.799999999999955 best_b: 65.80000000000018, and the loss is: 68998.54263258276\n",
      "When time is : 35, get best_k: 34.69999999999995 best_b: 65.70000000000019, and the loss is: 68614.8712397039\n",
      "When time is : 36, get best_k: 34.59999999999995 best_b: 65.6000000000002, and the loss is: 68232.2710186927\n",
      "When time is : 37, get best_k: 34.49999999999995 best_b: 65.5000000000002, and the loss is: 67850.7419695488\n",
      "When time is : 38, get best_k: 34.39999999999995 best_b: 65.4000000000002, and the loss is: 67470.28409227249\n",
      "When time is : 39, get best_k: 34.29999999999995 best_b: 65.30000000000021, and the loss is: 67090.89738686361\n",
      "When time is : 40, get best_k: 34.199999999999946 best_b: 65.20000000000022, and the loss is: 66712.58185332219\n",
      "When time is : 41, get best_k: 34.099999999999945 best_b: 65.10000000000022, and the loss is: 66335.3374916482\n",
      "When time is : 42, get best_k: 33.99999999999994 best_b: 65.00000000000023, and the loss is: 65959.16430184184\n",
      "When time is : 43, get best_k: 33.89999999999994 best_b: 64.90000000000023, and the loss is: 65584.06228390284\n",
      "When time is : 44, get best_k: 33.79999999999994 best_b: 64.80000000000024, and the loss is: 65210.03143783129\n",
      "When time is : 45, get best_k: 33.69999999999994 best_b: 64.70000000000024, and the loss is: 64837.071763627275\n",
      "When time is : 46, get best_k: 33.59999999999994 best_b: 64.60000000000025, and the loss is: 64465.18326129068\n",
      "When time is : 47, get best_k: 33.499999999999936 best_b: 64.50000000000026, and the loss is: 64094.36593082163\n",
      "When time is : 48, get best_k: 33.399999999999935 best_b: 64.40000000000026, and the loss is: 63724.61977221986\n",
      "When time is : 49, get best_k: 33.29999999999993 best_b: 64.30000000000027, and the loss is: 63355.944785485764\n",
      "When time is : 50, get best_k: 33.19999999999993 best_b: 64.20000000000027, and the loss is: 62988.34097061905\n",
      "When time is : 51, get best_k: 33.09999999999993 best_b: 64.10000000000028, and the loss is: 62621.80832761979\n",
      "When time is : 52, get best_k: 32.99999999999993 best_b: 64.00000000000028, and the loss is: 62256.34685648811\n",
      "When time is : 53, get best_k: 32.89999999999993 best_b: 63.90000000000028, and the loss is: 61891.95655722372\n",
      "When time is : 54, get best_k: 32.799999999999926 best_b: 63.80000000000028, and the loss is: 61528.63742982702\n",
      "When time is : 55, get best_k: 32.699999999999925 best_b: 63.70000000000028, and the loss is: 61166.38947429758\n",
      "When time is : 56, get best_k: 32.59999999999992 best_b: 63.60000000000028, and the loss is: 60805.21269063572\n",
      "When time is : 57, get best_k: 32.49999999999992 best_b: 63.50000000000028, and the loss is: 60445.10707884138\n",
      "When time is : 58, get best_k: 32.39999999999992 best_b: 63.400000000000276, and the loss is: 60086.07263891435\n",
      "When time is : 59, get best_k: 32.29999999999992 best_b: 63.300000000000274, and the loss is: 59728.10937085497\n",
      "When time is : 60, get best_k: 32.19999999999992 best_b: 63.20000000000027, and the loss is: 59371.21727466291\n",
      "When time is : 61, get best_k: 32.099999999999916 best_b: 63.10000000000027, and the loss is: 59015.396350338386\n",
      "When time is : 62, get best_k: 31.999999999999915 best_b: 63.00000000000027, and the loss is: 58660.64659788134\n",
      "When time is : 63, get best_k: 31.899999999999913 best_b: 62.90000000000027, and the loss is: 58306.96801729171\n",
      "When time is : 64, get best_k: 31.799999999999912 best_b: 62.80000000000027, and the loss is: 57954.360608569565\n",
      "When time is : 65, get best_k: 31.69999999999991 best_b: 62.700000000000266, and the loss is: 57602.824371715\n",
      "When time is : 66, get best_k: 31.59999999999991 best_b: 62.600000000000264, and the loss is: 57252.35930672774\n",
      "When time is : 67, get best_k: 31.499999999999908 best_b: 62.50000000000026, and the loss is: 56902.96541360806\n",
      "When time is : 68, get best_k: 31.399999999999906 best_b: 62.40000000000026, and the loss is: 56554.642692355796\n",
      "When time is : 69, get best_k: 31.299999999999905 best_b: 62.30000000000026, and the loss is: 56207.39114297104\n",
      "When time is : 70, get best_k: 31.199999999999903 best_b: 62.20000000000026, and the loss is: 55861.210765453725\n",
      "When time is : 71, get best_k: 31.099999999999902 best_b: 62.10000000000026, and the loss is: 55516.10155980391\n",
      "When time is : 72, get best_k: 30.9999999999999 best_b: 62.000000000000256, and the loss is: 55172.06352602153\n",
      "When time is : 73, get best_k: 30.8999999999999 best_b: 61.900000000000254, and the loss is: 54829.096664106604\n",
      "When time is : 74, get best_k: 30.799999999999898 best_b: 61.80000000000025, and the loss is: 54487.20097405925\n",
      "When time is : 75, get best_k: 30.699999999999896 best_b: 61.70000000000025, and the loss is: 54146.376455879275\n",
      "When time is : 76, get best_k: 30.599999999999895 best_b: 61.60000000000025, and the loss is: 53806.62310956683\n",
      "When time is : 77, get best_k: 30.499999999999893 best_b: 61.50000000000025, and the loss is: 53467.940935121806\n",
      "When time is : 78, get best_k: 30.399999999999892 best_b: 61.40000000000025, and the loss is: 53130.32993254431\n",
      "When time is : 79, get best_k: 30.29999999999989 best_b: 61.300000000000246, and the loss is: 52793.79010183427\n",
      "When time is : 80, get best_k: 30.19999999999989 best_b: 61.200000000000244, and the loss is: 52458.32144299166\n",
      "When time is : 81, get best_k: 30.099999999999888 best_b: 61.10000000000024, and the loss is: 52123.92395601653\n",
      "When time is : 82, get best_k: 29.999999999999886 best_b: 61.00000000000024, and the loss is: 51790.59764090893\n",
      "When time is : 83, get best_k: 29.899999999999885 best_b: 60.90000000000024, and the loss is: 51458.34249766876\n",
      "When time is : 84, get best_k: 29.799999999999883 best_b: 60.80000000000024, and the loss is: 51127.15852629597\n",
      "When time is : 85, get best_k: 29.699999999999882 best_b: 60.70000000000024, and the loss is: 50797.04572679073\n",
      "When time is : 86, get best_k: 29.59999999999988 best_b: 60.600000000000236, and the loss is: 50468.004099152924\n",
      "When time is : 87, get best_k: 29.49999999999988 best_b: 60.500000000000234, and the loss is: 50140.033643382645\n",
      "When time is : 88, get best_k: 29.399999999999878 best_b: 60.40000000000023, and the loss is: 49813.13435947983\n",
      "When time is : 89, get best_k: 29.299999999999876 best_b: 60.30000000000023, and the loss is: 49487.30624744441\n",
      "When time is : 90, get best_k: 29.199999999999875 best_b: 60.20000000000023, and the loss is: 49162.54930727659\n",
      "When time is : 91, get best_k: 29.099999999999874 best_b: 60.10000000000023, and the loss is: 48838.86353897612\n",
      "When time is : 92, get best_k: 28.999999999999872 best_b: 60.00000000000023, and the loss is: 48516.24894254329\n",
      "When time is : 93, get best_k: 28.89999999999987 best_b: 59.900000000000226, and the loss is: 48194.70551797777\n",
      "When time is : 94, get best_k: 28.79999999999987 best_b: 59.800000000000225, and the loss is: 47874.23326527974\n",
      "When time is : 95, get best_k: 28.699999999999868 best_b: 59.70000000000022, and the loss is: 47554.83218444923\n",
      "When time is : 96, get best_k: 28.599999999999866 best_b: 59.60000000000022, and the loss is: 47236.50227548618\n",
      "When time is : 97, get best_k: 28.499999999999865 best_b: 59.50000000000022, and the loss is: 46919.24353839054\n",
      "When time is : 98, get best_k: 28.399999999999864 best_b: 59.40000000000022, and the loss is: 46603.05597316241\n",
      "When time is : 99, get best_k: 28.299999999999862 best_b: 59.30000000000022, and the loss is: 46287.939579801765\n",
      "When time is : 100, get best_k: 28.19999999999986 best_b: 59.200000000000216, and the loss is: 45973.89435830856\n",
      "When time is : 101, get best_k: 28.09999999999986 best_b: 59.100000000000215, and the loss is: 45660.92030868284\n",
      "When time is : 102, get best_k: 27.999999999999858 best_b: 59.00000000000021, and the loss is: 45349.01743092459\n",
      "When time is : 103, get best_k: 27.899999999999856 best_b: 58.90000000000021, and the loss is: 45038.185725033865\n",
      "When time is : 104, get best_k: 27.799999999999855 best_b: 58.80000000000021, and the loss is: 44728.42519101052\n",
      "When time is : 105, get best_k: 27.699999999999854 best_b: 58.70000000000021, and the loss is: 44419.735828854704\n",
      "When time is : 106, get best_k: 27.599999999999852 best_b: 58.60000000000021, and the loss is: 44112.117638566364\n",
      "When time is : 107, get best_k: 27.49999999999985 best_b: 58.500000000000206, and the loss is: 43805.57062014549\n",
      "When time is : 108, get best_k: 27.39999999999985 best_b: 58.400000000000205, and the loss is: 43500.09477359204\n",
      "When time is : 109, get best_k: 27.299999999999848 best_b: 58.3000000000002, and the loss is: 43195.69009890606\n",
      "When time is : 110, get best_k: 27.199999999999847 best_b: 58.2000000000002, and the loss is: 42892.35659608759\n",
      "When time is : 111, get best_k: 27.099999999999845 best_b: 58.1000000000002, and the loss is: 42590.094265136584\n",
      "When time is : 112, get best_k: 26.999999999999844 best_b: 58.0000000000002, and the loss is: 42288.903106053025\n",
      "When time is : 113, get best_k: 26.899999999999842 best_b: 57.9000000000002, and the loss is: 41988.78311883698\n",
      "When time is : 114, get best_k: 26.79999999999984 best_b: 57.800000000000196, and the loss is: 41689.734303488374\n",
      "When time is : 115, get best_k: 26.69999999999984 best_b: 57.700000000000195, and the loss is: 41391.75666000728\n",
      "When time is : 116, get best_k: 26.599999999999838 best_b: 57.60000000000019, and the loss is: 41094.85018839357\n",
      "When time is : 117, get best_k: 26.499999999999837 best_b: 57.50000000000019, and the loss is: 40799.01488864741\n",
      "When time is : 118, get best_k: 26.399999999999835 best_b: 57.40000000000019, and the loss is: 40504.25076076865\n",
      "When time is : 119, get best_k: 26.299999999999834 best_b: 57.30000000000019, and the loss is: 40210.557804757394\n",
      "When time is : 120, get best_k: 26.199999999999832 best_b: 57.20000000000019, and the loss is: 39917.93602061364\n",
      "When time is : 121, get best_k: 26.09999999999983 best_b: 57.100000000000186, and the loss is: 39626.385408337344\n",
      "When time is : 122, get best_k: 25.99999999999983 best_b: 57.000000000000185, and the loss is: 39335.90596792855\n",
      "When time is : 123, get best_k: 25.899999999999828 best_b: 56.90000000000018, and the loss is: 39046.49769938714\n",
      "When time is : 124, get best_k: 25.799999999999827 best_b: 56.80000000000018, and the loss is: 38758.16060271325\n",
      "When time is : 125, get best_k: 25.699999999999825 best_b: 56.70000000000018, and the loss is: 38470.89467790681\n",
      "When time is : 126, get best_k: 25.599999999999824 best_b: 56.60000000000018, and the loss is: 38184.69992496791\n",
      "When time is : 127, get best_k: 25.499999999999822 best_b: 56.50000000000018, and the loss is: 37899.57634389634\n",
      "When time is : 128, get best_k: 25.39999999999982 best_b: 56.400000000000176, and the loss is: 37615.52393469237\n",
      "When time is : 129, get best_k: 25.29999999999982 best_b: 56.300000000000175, and the loss is: 37332.54269735583\n",
      "When time is : 130, get best_k: 25.199999999999818 best_b: 56.20000000000017, and the loss is: 37050.63263188672\n",
      "When time is : 131, get best_k: 25.099999999999817 best_b: 56.10000000000017, and the loss is: 36769.793738285145\n",
      "When time is : 132, get best_k: 24.999999999999815 best_b: 56.00000000000017, and the loss is: 36490.02601655102\n",
      "When time is : 133, get best_k: 24.899999999999814 best_b: 55.90000000000017, and the loss is: 36211.32946668434\n",
      "When time is : 134, get best_k: 24.799999999999812 best_b: 55.80000000000017, and the loss is: 35933.704088685205\n",
      "When time is : 135, get best_k: 24.69999999999981 best_b: 55.700000000000166, and the loss is: 35657.149882553436\n",
      "When time is : 136, get best_k: 24.59999999999981 best_b: 55.600000000000165, and the loss is: 35381.66684828919\n",
      "When time is : 137, get best_k: 24.499999999999808 best_b: 55.50000000000016, and the loss is: 35107.25498589239\n",
      "When time is : 138, get best_k: 24.399999999999807 best_b: 55.40000000000016, and the loss is: 34833.91429536308\n",
      "When time is : 139, get best_k: 24.299999999999805 best_b: 55.30000000000016, and the loss is: 34561.64477670128\n",
      "When time is : 140, get best_k: 24.199999999999804 best_b: 55.20000000000016, and the loss is: 34290.44642990686\n",
      "When time is : 141, get best_k: 24.099999999999802 best_b: 55.10000000000016, and the loss is: 34020.319254979964\n",
      "When time is : 142, get best_k: 23.9999999999998 best_b: 55.000000000000156, and the loss is: 33751.263251920565\n",
      "When time is : 143, get best_k: 23.8999999999998 best_b: 54.900000000000155, and the loss is: 33483.278420728595\n",
      "When time is : 144, get best_k: 23.799999999999798 best_b: 54.80000000000015, and the loss is: 33216.364761404075\n",
      "When time is : 145, get best_k: 23.699999999999797 best_b: 54.70000000000015, and the loss is: 32950.52227394708\n",
      "When time is : 146, get best_k: 23.599999999999795 best_b: 54.60000000000015, and the loss is: 32685.750958357527\n",
      "When time is : 147, get best_k: 23.499999999999794 best_b: 54.50000000000015, and the loss is: 32422.050814635466\n",
      "When time is : 148, get best_k: 23.399999999999793 best_b: 54.40000000000015, and the loss is: 32159.421842780896\n",
      "When time is : 149, get best_k: 23.29999999999979 best_b: 54.300000000000146, and the loss is: 31897.864042793713\n",
      "When time is : 150, get best_k: 23.19999999999979 best_b: 54.200000000000145, and the loss is: 31637.377414674007\n",
      "When time is : 151, get best_k: 23.09999999999979 best_b: 54.10000000000014, and the loss is: 31377.96195842182\n",
      "When time is : 152, get best_k: 22.999999999999787 best_b: 54.00000000000014, and the loss is: 31119.617674037145\n",
      "When time is : 153, get best_k: 22.899999999999785 best_b: 53.90000000000014, and the loss is: 30862.344561519847\n",
      "When time is : 154, get best_k: 22.799999999999784 best_b: 53.80000000000014, and the loss is: 30606.14262087008\n",
      "When time is : 155, get best_k: 22.699999999999783 best_b: 53.70000000000014, and the loss is: 30351.011852087777\n",
      "When time is : 156, get best_k: 22.59999999999978 best_b: 53.600000000000136, and the loss is: 30096.95225517295\n",
      "When time is : 157, get best_k: 22.49999999999978 best_b: 53.500000000000135, and the loss is: 29843.96383012555\n",
      "When time is : 158, get best_k: 22.39999999999978 best_b: 53.400000000000134, and the loss is: 29592.046576945642\n",
      "When time is : 159, get best_k: 22.299999999999777 best_b: 53.30000000000013, and the loss is: 29341.20049563324\n",
      "When time is : 160, get best_k: 22.199999999999775 best_b: 53.20000000000013, and the loss is: 29091.42558618825\n",
      "When time is : 161, get best_k: 22.099999999999774 best_b: 53.10000000000013, and the loss is: 28842.721848610785\n",
      "When time is : 162, get best_k: 21.999999999999773 best_b: 53.00000000000013, and the loss is: 28595.089282900757\n",
      "When time is : 163, get best_k: 21.89999999999977 best_b: 52.90000000000013, and the loss is: 28348.527889058165\n",
      "When time is : 164, get best_k: 21.79999999999977 best_b: 52.800000000000125, and the loss is: 28103.03766708311\n",
      "When time is : 165, get best_k: 21.69999999999977 best_b: 52.700000000000124, and the loss is: 27858.618616975513\n",
      "When time is : 166, get best_k: 21.599999999999767 best_b: 52.60000000000012, and the loss is: 27615.270738735337\n",
      "When time is : 167, get best_k: 21.499999999999766 best_b: 52.50000000000012, and the loss is: 27372.994032362694\n",
      "When time is : 168, get best_k: 21.399999999999764 best_b: 52.40000000000012, and the loss is: 27131.788497857484\n",
      "When time is : 169, get best_k: 21.299999999999763 best_b: 52.30000000000012, and the loss is: 26891.65413521976\n",
      "When time is : 170, get best_k: 21.19999999999976 best_b: 52.20000000000012, and the loss is: 26652.59094444951\n",
      "When time is : 171, get best_k: 21.09999999999976 best_b: 52.100000000000115, and the loss is: 26414.59892554675\n",
      "When time is : 172, get best_k: 20.99999999999976 best_b: 52.000000000000114, and the loss is: 26177.678078511395\n",
      "When time is : 173, get best_k: 20.899999999999757 best_b: 51.90000000000011, and the loss is: 25941.82840334358\n",
      "When time is : 174, get best_k: 20.799999999999756 best_b: 51.80000000000011, and the loss is: 25707.049900043192\n",
      "When time is : 175, get best_k: 20.699999999999754 best_b: 51.70000000000011, and the loss is: 25473.342568610296\n",
      "When time is : 176, get best_k: 20.599999999999753 best_b: 51.60000000000011, and the loss is: 25240.70640904484\n",
      "When time is : 177, get best_k: 20.49999999999975 best_b: 51.50000000000011, and the loss is: 25009.141421346867\n",
      "When time is : 178, get best_k: 20.39999999999975 best_b: 51.400000000000105, and the loss is: 24778.647605516395\n",
      "When time is : 179, get best_k: 20.29999999999975 best_b: 51.300000000000104, and the loss is: 24549.224961553366\n",
      "When time is : 180, get best_k: 20.199999999999747 best_b: 51.2000000000001, and the loss is: 24320.87348945779\n",
      "When time is : 181, get best_k: 20.099999999999746 best_b: 51.1000000000001, and the loss is: 24093.593189229698\n",
      "When time is : 182, get best_k: 19.999999999999744 best_b: 51.0000000000001, and the loss is: 23867.38406086911\n",
      "When time is : 183, get best_k: 19.899999999999743 best_b: 50.9000000000001, and the loss is: 23642.246104375947\n",
      "When time is : 184, get best_k: 19.79999999999974 best_b: 50.8000000000001, and the loss is: 23418.179319750307\n",
      "When time is : 185, get best_k: 19.69999999999974 best_b: 50.700000000000095, and the loss is: 23195.1837069921\n",
      "When time is : 186, get best_k: 19.59999999999974 best_b: 50.600000000000094, and the loss is: 22973.259266101344\n",
      "When time is : 187, get best_k: 19.499999999999737 best_b: 50.50000000000009, and the loss is: 22752.405997078087\n",
      "When time is : 188, get best_k: 19.399999999999736 best_b: 50.40000000000009, and the loss is: 22532.62389992227\n",
      "When time is : 189, get best_k: 19.299999999999734 best_b: 50.30000000000009, and the loss is: 22313.91297463395\n",
      "When time is : 190, get best_k: 19.199999999999733 best_b: 50.20000000000009, and the loss is: 22096.27322121314\n",
      "When time is : 191, get best_k: 19.09999999999973 best_b: 50.10000000000009, and the loss is: 21879.704639659718\n",
      "When time is : 192, get best_k: 18.99999999999973 best_b: 50.000000000000085, and the loss is: 21664.207229973847\n",
      "When time is : 193, get best_k: 18.89999999999973 best_b: 49.900000000000084, and the loss is: 21449.780992155393\n",
      "When time is : 194, get best_k: 18.799999999999727 best_b: 49.80000000000008, and the loss is: 21236.425926204432\n",
      "When time is : 195, get best_k: 18.699999999999726 best_b: 49.70000000000008, and the loss is: 21024.142032120904\n",
      "When time is : 196, get best_k: 18.599999999999724 best_b: 49.60000000000008, and the loss is: 20812.929309904892\n",
      "When time is : 197, get best_k: 18.499999999999723 best_b: 49.50000000000008, and the loss is: 20602.787759556333\n",
      "When time is : 198, get best_k: 18.39999999999972 best_b: 49.40000000000008, and the loss is: 20393.71738107527\n",
      "When time is : 199, get best_k: 18.29999999999972 best_b: 49.300000000000075, and the loss is: 20185.718174461643\n",
      "When time is : 200, get best_k: 18.19999999999972 best_b: 49.200000000000074, and the loss is: 19978.790139715486\n",
      "When time is : 201, get best_k: 18.099999999999717 best_b: 49.10000000000007, and the loss is: 19772.933276836826\n",
      "When time is : 202, get best_k: 17.999999999999716 best_b: 49.00000000000007, and the loss is: 19568.147585825613\n",
      "When time is : 203, get best_k: 17.899999999999714 best_b: 48.90000000000007, and the loss is: 19364.433066681882\n",
      "When time is : 204, get best_k: 17.799999999999713 best_b: 48.80000000000007, and the loss is: 19161.7897194056\n",
      "When time is : 205, get best_k: 17.69999999999971 best_b: 48.70000000000007, and the loss is: 18960.217543996805\n",
      "When time is : 206, get best_k: 17.59999999999971 best_b: 48.600000000000065, and the loss is: 18759.71654045548\n",
      "When time is : 207, get best_k: 17.49999999999971 best_b: 48.500000000000064, and the loss is: 18560.286708781634\n",
      "When time is : 208, get best_k: 17.399999999999707 best_b: 48.40000000000006, and the loss is: 18361.928048975227\n",
      "When time is : 209, get best_k: 17.299999999999706 best_b: 48.30000000000006, and the loss is: 18164.64056103634\n",
      "When time is : 210, get best_k: 17.199999999999704 best_b: 48.20000000000006, and the loss is: 17968.424244964866\n",
      "When time is : 211, get best_k: 17.099999999999703 best_b: 48.10000000000006, and the loss is: 17773.279100760912\n",
      "When time is : 212, get best_k: 16.9999999999997 best_b: 48.00000000000006, and the loss is: 17579.205128424415\n",
      "When time is : 213, get best_k: 16.8999999999997 best_b: 47.900000000000055, and the loss is: 17386.20232795537\n",
      "When time is : 214, get best_k: 16.7999999999997 best_b: 47.800000000000054, and the loss is: 17194.270699353827\n",
      "When time is : 215, get best_k: 16.699999999999697 best_b: 47.70000000000005, and the loss is: 17003.410242619742\n",
      "When time is : 216, get best_k: 16.599999999999696 best_b: 47.60000000000005, and the loss is: 16813.620957753108\n",
      "When time is : 217, get best_k: 16.499999999999694 best_b: 47.50000000000005, and the loss is: 16624.902844753975\n",
      "When time is : 218, get best_k: 16.399999999999693 best_b: 47.40000000000005, and the loss is: 16437.255903622307\n",
      "When time is : 219, get best_k: 16.29999999999969 best_b: 47.30000000000005, and the loss is: 16250.680134358072\n",
      "When time is : 220, get best_k: 16.19999999999969 best_b: 47.200000000000045, and the loss is: 16065.175536961346\n",
      "When time is : 221, get best_k: 16.09999999999969 best_b: 47.100000000000044, and the loss is: 15880.742111432046\n",
      "When time is : 222, get best_k: 15.99999999999969 best_b: 47.00000000000004, and the loss is: 15697.379857770266\n",
      "When time is : 223, get best_k: 15.89999999999969 best_b: 46.90000000000004, and the loss is: 15515.088775975937\n",
      "When time is : 224, get best_k: 15.79999999999969 best_b: 46.80000000000004, and the loss is: 15333.868866049093\n",
      "When time is : 225, get best_k: 15.69999999999969 best_b: 46.70000000000004, and the loss is: 15153.72012798972\n",
      "When time is : 226, get best_k: 15.59999999999969 best_b: 46.60000000000004, and the loss is: 14974.642561797782\n",
      "When time is : 227, get best_k: 15.499999999999691 best_b: 46.500000000000036, and the loss is: 14796.636167473347\n",
      "When time is : 228, get best_k: 15.399999999999691 best_b: 46.400000000000034, and the loss is: 14619.700945016377\n",
      "When time is : 229, get best_k: 15.299999999999692 best_b: 46.30000000000003, and the loss is: 14443.836894426873\n",
      "When time is : 230, get best_k: 15.199999999999692 best_b: 46.20000000000003, and the loss is: 14269.04401570486\n",
      "When time is : 231, get best_k: 15.099999999999692 best_b: 46.10000000000003, and the loss is: 14095.322308850278\n",
      "When time is : 232, get best_k: 14.999999999999693 best_b: 46.00000000000003, and the loss is: 13922.671773863192\n",
      "When time is : 233, get best_k: 14.899999999999693 best_b: 45.90000000000003, and the loss is: 13751.092410743544\n",
      "When time is : 234, get best_k: 14.799999999999693 best_b: 45.800000000000026, and the loss is: 13580.584219491408\n",
      "When time is : 235, get best_k: 14.699999999999694 best_b: 45.700000000000024, and the loss is: 13411.147200106723\n",
      "When time is : 236, get best_k: 14.599999999999694 best_b: 45.60000000000002, and the loss is: 13242.78135258952\n",
      "When time is : 237, get best_k: 14.499999999999694 best_b: 45.50000000000002, and the loss is: 13075.486676939781\n",
      "When time is : 238, get best_k: 14.399999999999695 best_b: 45.40000000000002, and the loss is: 12909.263173157513\n",
      "When time is : 239, get best_k: 14.299999999999695 best_b: 45.30000000000002, and the loss is: 12744.110841242713\n",
      "When time is : 240, get best_k: 14.199999999999696 best_b: 45.20000000000002, and the loss is: 12580.029681195383\n",
      "When time is : 241, get best_k: 14.099999999999696 best_b: 45.100000000000016, and the loss is: 12417.019693015516\n",
      "When time is : 242, get best_k: 13.999999999999696 best_b: 45.000000000000014, and the loss is: 12255.080876703145\n",
      "When time is : 243, get best_k: 13.899999999999697 best_b: 44.90000000000001, and the loss is: 12094.21323225822\n",
      "When time is : 244, get best_k: 13.799999999999697 best_b: 44.80000000000001, and the loss is: 11934.416759680784\n",
      "When time is : 245, get best_k: 13.699999999999697 best_b: 44.70000000000001, and the loss is: 11775.691458970805\n",
      "When time is : 246, get best_k: 13.599999999999698 best_b: 44.60000000000001, and the loss is: 11618.037330128278\n",
      "When time is : 247, get best_k: 13.499999999999698 best_b: 44.50000000000001, and the loss is: 11461.454373153256\n",
      "When time is : 248, get best_k: 13.399999999999698 best_b: 44.400000000000006, and the loss is: 11305.942588045687\n",
      "When time is : 249, get best_k: 13.299999999999699 best_b: 44.300000000000004, and the loss is: 11151.501974805587\n",
      "When time is : 250, get best_k: 13.199999999999699 best_b: 44.2, and the loss is: 10998.132533432952\n",
      "When time is : 251, get best_k: 13.0999999999997 best_b: 44.1, and the loss is: 10845.83426392781\n",
      "When time is : 252, get best_k: 12.9999999999997 best_b: 44.0, and the loss is: 10694.607166290118\n",
      "When time is : 253, get best_k: 12.8999999999997 best_b: 43.9, and the loss is: 10544.45124051991\n",
      "When time is : 254, get best_k: 12.7999999999997 best_b: 43.8, and the loss is: 10395.366486617162\n",
      "When time is : 255, get best_k: 12.6999999999997 best_b: 43.699999999999996, and the loss is: 10247.352904581896\n",
      "When time is : 256, get best_k: 12.599999999999701 best_b: 43.599999999999994, and the loss is: 10100.410494414085\n",
      "When time is : 257, get best_k: 12.499999999999702 best_b: 43.49999999999999, and the loss is: 9954.539256113756\n",
      "When time is : 258, get best_k: 12.399999999999702 best_b: 43.39999999999999, and the loss is: 9809.739189680884\n",
      "When time is : 259, get best_k: 12.299999999999702 best_b: 43.29999999999999, and the loss is: 9666.010295115499\n",
      "When time is : 260, get best_k: 12.199999999999703 best_b: 43.19999999999999, and the loss is: 9523.352572417578\n",
      "When time is : 261, get best_k: 12.099999999999703 best_b: 43.09999999999999, and the loss is: 9381.766021587131\n",
      "When time is : 262, get best_k: 11.999999999999703 best_b: 42.999999999999986, and the loss is: 9241.250642624154\n",
      "When time is : 263, get best_k: 11.899999999999704 best_b: 42.899999999999984, and the loss is: 9101.80643552864\n",
      "When time is : 264, get best_k: 11.799999999999704 best_b: 42.79999999999998, and the loss is: 8963.433400300604\n",
      "When time is : 265, get best_k: 11.699999999999704 best_b: 42.69999999999998, and the loss is: 8826.131536940027\n",
      "When time is : 266, get best_k: 11.599999999999705 best_b: 42.59999999999998, and the loss is: 8689.900845446924\n",
      "When time is : 267, get best_k: 11.499999999999705 best_b: 42.49999999999998, and the loss is: 8554.741325821298\n",
      "When time is : 268, get best_k: 11.399999999999705 best_b: 42.39999999999998, and the loss is: 8420.652978063139\n",
      "When time is : 269, get best_k: 11.299999999999706 best_b: 42.299999999999976, and the loss is: 8287.635802172443\n",
      "When time is : 270, get best_k: 11.199999999999706 best_b: 42.199999999999974, and the loss is: 8155.6897981492275\n",
      "When time is : 271, get best_k: 11.099999999999707 best_b: 42.09999999999997, and the loss is: 8024.8149659934825\n",
      "When time is : 272, get best_k: 10.999999999999707 best_b: 41.99999999999997, and the loss is: 7895.01130570521\n",
      "When time is : 273, get best_k: 10.899999999999707 best_b: 41.89999999999997, and the loss is: 7766.278817284385\n",
      "When time is : 274, get best_k: 10.799999999999708 best_b: 41.79999999999997, and the loss is: 7638.6175007310585\n",
      "When time is : 275, get best_k: 10.699999999999708 best_b: 41.69999999999997, and the loss is: 7512.027356045191\n",
      "When time is : 276, get best_k: 10.599999999999708 best_b: 41.599999999999966, and the loss is: 7386.50838322679\n",
      "When time is : 277, get best_k: 10.499999999999709 best_b: 41.499999999999964, and the loss is: 7262.06058227587\n",
      "When time is : 278, get best_k: 10.399999999999709 best_b: 41.39999999999996, and the loss is: 7138.683953192414\n",
      "When time is : 279, get best_k: 10.29999999999971 best_b: 41.29999999999996, and the loss is: 7016.37849597643\n",
      "When time is : 280, get best_k: 10.19999999999971 best_b: 41.19999999999996, and the loss is: 6895.144210627916\n",
      "When time is : 281, get best_k: 10.09999999999971 best_b: 41.09999999999996, and the loss is: 6774.981097146866\n",
      "When time is : 282, get best_k: 9.99999999999971 best_b: 40.99999999999996, and the loss is: 6655.889155533295\n",
      "When time is : 283, get best_k: 9.89999999999971 best_b: 40.899999999999956, and the loss is: 6537.868385787193\n",
      "When time is : 284, get best_k: 9.799999999999711 best_b: 40.799999999999955, and the loss is: 6420.918787908555\n",
      "When time is : 285, get best_k: 9.699999999999712 best_b: 40.69999999999995, and the loss is: 6305.040361897393\n",
      "When time is : 286, get best_k: 9.599999999999712 best_b: 40.59999999999995, and the loss is: 6190.233107753706\n",
      "When time is : 287, get best_k: 9.499999999999712 best_b: 40.49999999999995, and the loss is: 6076.497025477482\n",
      "When time is : 288, get best_k: 9.399999999999713 best_b: 40.39999999999995, and the loss is: 5963.83211506873\n",
      "When time is : 289, get best_k: 9.299999999999713 best_b: 40.29999999999995, and the loss is: 5852.2383765274435\n",
      "When time is : 290, get best_k: 9.199999999999713 best_b: 40.199999999999946, and the loss is: 5741.715809853632\n",
      "When time is : 291, get best_k: 9.099999999999714 best_b: 40.099999999999945, and the loss is: 5632.264415047289\n",
      "When time is : 292, get best_k: 8.999999999999714 best_b: 39.99999999999994, and the loss is: 5523.884192108426\n",
      "When time is : 293, get best_k: 8.899999999999714 best_b: 39.89999999999994, and the loss is: 5416.575141037021\n",
      "When time is : 294, get best_k: 8.799999999999715 best_b: 39.79999999999994, and the loss is: 5310.337261833088\n",
      "When time is : 295, get best_k: 8.699999999999715 best_b: 39.69999999999994, and the loss is: 5205.170554496633\n",
      "When time is : 296, get best_k: 8.599999999999715 best_b: 39.59999999999994, and the loss is: 5101.075019027642\n",
      "When time is : 297, get best_k: 8.499999999999716 best_b: 39.499999999999936, and the loss is: 4998.050655426121\n",
      "When time is : 298, get best_k: 8.399999999999716 best_b: 39.399999999999935, and the loss is: 4896.097463692072\n",
      "When time is : 299, get best_k: 8.299999999999716 best_b: 39.29999999999993, and the loss is: 4795.215443825497\n",
      "When time is : 300, get best_k: 8.199999999999717 best_b: 39.19999999999993, and the loss is: 4695.40459582639\n",
      "When time is : 301, get best_k: 8.099999999999717 best_b: 39.09999999999993, and the loss is: 4596.66491969475\n",
      "When time is : 302, get best_k: 7.999999999999718 best_b: 38.99999999999993, and the loss is: 4498.996415430582\n",
      "When time is : 303, get best_k: 7.899999999999718 best_b: 38.89999999999993, and the loss is: 4402.399083033889\n",
      "When time is : 304, get best_k: 7.799999999999718 best_b: 38.799999999999926, and the loss is: 4306.872922504664\n",
      "When time is : 305, get best_k: 7.699999999999719 best_b: 38.699999999999925, and the loss is: 4212.417933842902\n",
      "When time is : 306, get best_k: 7.599999999999719 best_b: 38.59999999999992, and the loss is: 4119.034117048622\n",
      "When time is : 307, get best_k: 7.499999999999719 best_b: 38.49999999999992, and the loss is: 4026.721472121801\n",
      "When time is : 308, get best_k: 7.39999999999972 best_b: 38.39999999999992, and the loss is: 3935.4799990624597\n",
      "When time is : 309, get best_k: 7.29999999999972 best_b: 38.29999999999992, and the loss is: 3845.309697870588\n",
      "When time is : 310, get best_k: 7.19999999999972 best_b: 38.19999999999992, and the loss is: 3756.210568546178\n",
      "When time is : 311, get best_k: 7.099999999999721 best_b: 38.099999999999916, and the loss is: 3668.1826110892466\n",
      "When time is : 312, get best_k: 6.999999999999721 best_b: 37.999999999999915, and the loss is: 3581.225825499783\n",
      "When time is : 313, get best_k: 6.8999999999997215 best_b: 37.89999999999991, and the loss is: 3495.340211777789\n",
      "When time is : 314, get best_k: 6.799999999999722 best_b: 37.79999999999991, and the loss is: 3410.5257699232625\n",
      "When time is : 315, get best_k: 6.699999999999722 best_b: 37.69999999999991, and the loss is: 3326.7824999362115\n",
      "When time is : 316, get best_k: 6.5999999999997225 best_b: 37.59999999999991, and the loss is: 3244.1104018166293\n",
      "When time is : 317, get best_k: 6.499999999999723 best_b: 37.49999999999991, and the loss is: 3162.509475564518\n",
      "When time is : 318, get best_k: 6.399999999999723 best_b: 37.399999999999906, and the loss is: 3081.9797211798814\n",
      "When time is : 319, get best_k: 6.299999999999724 best_b: 37.299999999999905, and the loss is: 3002.5211386627107\n",
      "When time is : 320, get best_k: 6.199999999999724 best_b: 37.1999999999999, and the loss is: 2924.133728013007\n",
      "When time is : 321, get best_k: 6.099999999999724 best_b: 37.0999999999999, and the loss is: 2846.8174892307775\n",
      "When time is : 322, get best_k: 5.999999999999725 best_b: 36.9999999999999, and the loss is: 2770.5724223160155\n",
      "When time is : 323, get best_k: 5.899999999999725 best_b: 36.8999999999999, and the loss is: 2695.3985272687246\n",
      "When time is : 324, get best_k: 5.799999999999725 best_b: 36.7999999999999, and the loss is: 2621.2958040889052\n",
      "When time is : 325, get best_k: 5.699999999999726 best_b: 36.699999999999896, and the loss is: 2548.2642527765574\n",
      "When time is : 326, get best_k: 5.599999999999726 best_b: 36.599999999999895, and the loss is: 2476.3038733316766\n",
      "When time is : 327, get best_k: 5.499999999999726 best_b: 36.49999999999989, and the loss is: 2405.414665754267\n",
      "When time is : 328, get best_k: 5.399999999999727 best_b: 36.39999999999989, and the loss is: 2335.5966300443342\n",
      "When time is : 329, get best_k: 5.299999999999727 best_b: 36.29999999999989, and the loss is: 2266.8497662018644\n",
      "When time is : 330, get best_k: 5.1999999999997275 best_b: 36.19999999999989, and the loss is: 2199.1740742268694\n",
      "When time is : 331, get best_k: 5.099999999999728 best_b: 36.09999999999989, and the loss is: 2132.5695541193422\n",
      "When time is : 332, get best_k: 4.999999999999728 best_b: 35.999999999999886, and the loss is: 2067.0362058792844\n",
      "When time is : 333, get best_k: 4.899999999999729 best_b: 35.899999999999885, and the loss is: 2002.5740295066992\n",
      "When time is : 334, get best_k: 4.799999999999729 best_b: 35.79999999999988, and the loss is: 1939.183025001583\n",
      "When time is : 335, get best_k: 4.699999999999729 best_b: 35.69999999999988, and the loss is: 1876.863192363937\n",
      "When time is : 336, get best_k: 4.59999999999973 best_b: 35.59999999999988, and the loss is: 1815.6145315937626\n",
      "When time is : 337, get best_k: 4.49999999999973 best_b: 35.49999999999988, and the loss is: 1755.4370426910575\n",
      "When time is : 338, get best_k: 4.39999999999973 best_b: 35.39999999999988, and the loss is: 1696.3307256558228\n",
      "When time is : 339, get best_k: 4.299999999999731 best_b: 35.299999999999876, and the loss is: 1638.295580488057\n",
      "When time is : 340, get best_k: 4.199999999999731 best_b: 35.199999999999875, and the loss is: 1581.3316071877634\n",
      "When time is : 341, get best_k: 4.099999999999731 best_b: 35.09999999999987, and the loss is: 1525.4388057549418\n",
      "When time is : 342, get best_k: 3.9999999999997313 best_b: 34.99999999999987, and the loss is: 1470.6171761895876\n",
      "When time is : 343, get best_k: 3.8999999999997312 best_b: 34.89999999999987, and the loss is: 1416.8667184917044\n",
      "When time is : 344, get best_k: 3.799999999999731 best_b: 34.79999999999987, and the loss is: 1364.1874326612947\n",
      "When time is : 345, get best_k: 3.699999999999731 best_b: 34.69999999999987, and the loss is: 1312.5793186983503\n",
      "When time is : 346, get best_k: 3.599999999999731 best_b: 34.599999999999866, and the loss is: 1262.0423766028784\n",
      "When time is : 347, get best_k: 3.499999999999731 best_b: 34.499999999999865, and the loss is: 1212.5766063748777\n",
      "When time is : 348, get best_k: 3.399999999999731 best_b: 34.399999999999864, and the loss is: 1164.1820080143468\n",
      "When time is : 349, get best_k: 3.2999999999997307 best_b: 34.29999999999986, and the loss is: 1116.8585815212857\n",
      "When time is : 350, get best_k: 3.1999999999997306 best_b: 34.19999999999986, and the loss is: 1070.6063268956966\n",
      "When time is : 351, get best_k: 3.0999999999997305 best_b: 34.09999999999986, and the loss is: 1025.4252441375756\n",
      "When time is : 352, get best_k: 2.9999999999997304 best_b: 33.99999999999986, and the loss is: 981.315333246926\n",
      "When time is : 353, get best_k: 2.8999999999997303 best_b: 33.89999999999986, and the loss is: 938.2765942237459\n",
      "When time is : 354, get best_k: 2.7999999999997303 best_b: 33.799999999999855, and the loss is: 896.3090270680378\n",
      "When time is : 355, get best_k: 2.69999999999973 best_b: 33.699999999999854, and the loss is: 855.4126317797992\n",
      "When time is : 356, get best_k: 2.59999999999973 best_b: 33.59999999999985, and the loss is: 815.5874083590312\n",
      "When time is : 357, get best_k: 2.49999999999973 best_b: 33.49999999999985, and the loss is: 776.8333568057326\n",
      "When time is : 358, get best_k: 2.39999999999973 best_b: 33.39999999999985, and the loss is: 739.1504771199068\n",
      "When time is : 359, get best_k: 2.29999999999973 best_b: 33.29999999999985, and the loss is: 702.5387693015487\n",
      "When time is : 360, get best_k: 2.1999999999997297 best_b: 33.19999999999985, and the loss is: 666.9982333506616\n",
      "When time is : 361, get best_k: 2.0999999999997296 best_b: 33.099999999999845, and the loss is: 632.5288692672457\n",
      "When time is : 362, get best_k: 1.9999999999997295 best_b: 32.999999999999844, and the loss is: 599.1306770512999\n",
      "When time is : 363, get best_k: 1.8999999999997295 best_b: 32.89999999999984, and the loss is: 566.8036567028242\n",
      "When time is : 364, get best_k: 1.7999999999997294 best_b: 32.79999999999984, and the loss is: 535.5478082218189\n",
      "When time is : 365, get best_k: 1.6999999999997293 best_b: 32.69999999999984, and the loss is: 505.3631316082836\n",
      "When time is : 366, get best_k: 1.5999999999997292 best_b: 32.59999999999984, and the loss is: 476.2496268622194\n",
      "When time is : 367, get best_k: 1.499999999999729 best_b: 32.49999999999984, and the loss is: 448.20729398362494\n",
      "When time is : 368, get best_k: 1.399999999999729 best_b: 32.399999999999835, and the loss is: 421.2361329725014\n",
      "When time is : 369, get best_k: 1.299999999999729 best_b: 32.299999999999834, and the loss is: 395.3361438288481\n",
      "When time is : 370, get best_k: 1.1999999999997288 best_b: 32.19999999999983, and the loss is: 370.50732655266484\n",
      "When time is : 371, get best_k: 1.0999999999997288 best_b: 32.09999999999983, and the loss is: 346.7496811439523\n",
      "When time is : 372, get best_k: 0.9999999999997288 best_b: 31.99999999999983, and the loss is: 324.06320760271\n",
      "When time is : 373, get best_k: 0.8999999999997288 best_b: 31.899999999999828, and the loss is: 302.4479059289379\n",
      "When time is : 374, get best_k: 0.7999999999997288 best_b: 31.799999999999827, and the loss is: 281.9037761226363\n",
      "When time is : 375, get best_k: 0.6999999999997288 best_b: 31.699999999999825, and the loss is: 262.430818183805\n",
      "When time is : 376, get best_k: 0.5999999999997289 best_b: 31.599999999999824, and the loss is: 244.02903211244413\n",
      "When time is : 377, get best_k: 0.4999999999997289 best_b: 31.499999999999822, and the loss is: 226.69841790855372\n",
      "When time is : 378, get best_k: 0.3999999999997289 best_b: 31.39999999999982, and the loss is: 210.43897557213344\n",
      "When time is : 379, get best_k: 0.29999999999972893 best_b: 31.29999999999982, and the loss is: 195.25070510318352\n",
      "When time is : 380, get best_k: 0.19999999999972892 best_b: 31.199999999999818, and the loss is: 181.13360650170398\n",
      "When time is : 381, get best_k: 0.09999999999972892 best_b: 31.099999999999817, and the loss is: 168.08767976769502\n",
      "When time is : 382, get best_k: -2.710887070378476e-13 best_b: 30.999999999999815, and the loss is: 156.11292490115605\n",
      "When time is : 383, get best_k: -0.1000000000002711 best_b: 30.899999999999814, and the loss is: 145.2093419020878\n",
      "When time is : 384, get best_k: -0.2000000000002711 best_b: 30.799999999999812, and the loss is: 135.37693077048974\n",
      "When time is : 385, get best_k: -0.3000000000002711 best_b: 30.69999999999981, and the loss is: 126.61569150636223\n",
      "When time is : 386, get best_k: -0.40000000000027114 best_b: 30.59999999999981, and the loss is: 118.9256241097048\n",
      "When time is : 387, get best_k: -0.5000000000002711 best_b: 30.499999999999808, and the loss is: 112.30672858051788\n",
      "When time is : 388, get best_k: -0.6000000000002711 best_b: 30.399999999999807, and the loss is: 106.7590049188012\n",
      "When time is : 389, get best_k: -0.7000000000002711 best_b: 30.299999999999805, and the loss is: 102.28245312455503\n",
      "When time is : 390, get best_k: -0.800000000000271 best_b: 30.199999999999804, and the loss is: 98.87707319777925\n",
      "When time is : 391, get best_k: -0.900000000000271 best_b: 30.099999999999802, and the loss is: 96.5428651384736\n",
      "When time is : 392, get best_k: -1.0000000000002711 best_b: 29.9999999999998, and the loss is: 95.27982894663853\n",
      "When time is : 393, get best_k: -1.1000000000002712 best_b: 29.8999999999998, and the loss is: 95.08796462227374\n",
      "When time is : 399, get best_k: -1.0000000000002711 best_b: 29.799999999999798, and the loss is: 94.84680523122418\n"
     ]
    }
   ],
   "source": [
    "X_rm = X[:, 5]\n",
    "trytime = 2000\n",
    "min_loss = float('inf')\n",
    "direction = [\n",
    "    (+1,+1),\n",
    "    (+1,-1),\n",
    "    (-1,-1),\n",
    "    (-1,+1)\n",
    "]\n",
    "            \n",
    "next_direction = random.choice(direction)\n",
    "best_k = random.randint(-100, 100)\n",
    "best_b = random.randint(-100, 100)\n",
    "scalar = 0.1\n",
    "for i in range (trytime):\n",
    "    current_k, current_b = best_k + next_direction[0] * scalar, best_b + next_direction[1] * scalar\n",
    "    price_by_random_k_and_b = [price(r, current_k, current_b) for r in X_rm]\n",
    "    \n",
    "    current_loss = loss(y,price_by_random_k_and_b)\n",
    "    \n",
    "    if current_loss < min_loss:\n",
    "        best_k ,best_b = current_k,current_b\n",
    "        min_loss = current_loss\n",
    "        next_direction = next_direction\n",
    "        print('When time is : {}, get best_k: {} best_b: {}, and the loss is: {}'.format(i, best_k, best_b, min_loss))\n",
    "    else :\n",
    "        next_direction = random.choice(direction)\n",
    "    \n",
    "        "
   ]
  },
  {
   "cell_type": "code",
   "execution_count": null,
   "metadata": {},
   "outputs": [],
   "source": []
  }
 ],
 "metadata": {
  "kernelspec": {
   "display_name": "Python 3",
   "language": "python",
   "name": "python3"
  },
  "language_info": {
   "codemirror_mode": {
    "name": "ipython",
    "version": 3
   },
   "file_extension": ".py",
   "mimetype": "text/x-python",
   "name": "python",
   "nbconvert_exporter": "python",
   "pygments_lexer": "ipython3",
   "version": "3.7.1"
  }
 },
 "nbformat": 4,
 "nbformat_minor": 2
}
